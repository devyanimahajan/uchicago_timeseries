{
 "cells": [
  {
   "cell_type": "code",
   "execution_count": 4,
   "id": "130289a0-b40c-4616-92c2-facb4cd18d3e",
   "metadata": {},
   "outputs": [
    {
     "name": "stdout",
     "output_type": "stream",
     "text": [
      "Collecting sktime\n",
      "  Downloading sktime-0.36.0-py3-none-any.whl.metadata (34 kB)\n",
      "Requirement already satisfied: joblib<1.5,>=1.2.0 in /opt/anaconda3/lib/python3.12/site-packages (from sktime) (1.4.2)\n",
      "Requirement already satisfied: numpy<2.3,>=1.21 in /opt/anaconda3/lib/python3.12/site-packages (from sktime) (1.26.4)\n",
      "Requirement already satisfied: packaging in /opt/anaconda3/lib/python3.12/site-packages (from sktime) (24.1)\n",
      "Requirement already satisfied: pandas<2.3.0,>=1.1 in /opt/anaconda3/lib/python3.12/site-packages (from sktime) (2.2.2)\n",
      "Collecting scikit-base<0.13.0,>=0.6.1 (from sktime)\n",
      "  Downloading scikit_base-0.12.0-py3-none-any.whl.metadata (8.5 kB)\n",
      "Requirement already satisfied: scikit-learn<1.7.0,>=0.24 in /opt/anaconda3/lib/python3.12/site-packages (from sktime) (1.5.1)\n",
      "Requirement already satisfied: scipy<2.0.0,>=1.2 in /opt/anaconda3/lib/python3.12/site-packages (from sktime) (1.13.1)\n",
      "Requirement already satisfied: python-dateutil>=2.8.2 in /opt/anaconda3/lib/python3.12/site-packages (from pandas<2.3.0,>=1.1->sktime) (2.9.0.post0)\n",
      "Requirement already satisfied: pytz>=2020.1 in /opt/anaconda3/lib/python3.12/site-packages (from pandas<2.3.0,>=1.1->sktime) (2024.1)\n",
      "Requirement already satisfied: tzdata>=2022.7 in /opt/anaconda3/lib/python3.12/site-packages (from pandas<2.3.0,>=1.1->sktime) (2023.3)\n",
      "Requirement already satisfied: threadpoolctl>=3.1.0 in /opt/anaconda3/lib/python3.12/site-packages (from scikit-learn<1.7.0,>=0.24->sktime) (3.5.0)\n",
      "Requirement already satisfied: six>=1.5 in /opt/anaconda3/lib/python3.12/site-packages (from python-dateutil>=2.8.2->pandas<2.3.0,>=1.1->sktime) (1.16.0)\n",
      "Downloading sktime-0.36.0-py3-none-any.whl (36.9 MB)\n",
      "\u001b[2K   \u001b[90m━━━━━━━━━━━━━━━━━━━━━━━━━━━━━━━━━━━━━━━━\u001b[0m \u001b[32m36.9/36.9 MB\u001b[0m \u001b[31m8.2 MB/s\u001b[0m eta \u001b[36m0:00:00\u001b[0ma \u001b[36m0:00:01\u001b[0m\n",
      "\u001b[?25hDownloading scikit_base-0.12.0-py3-none-any.whl (141 kB)\n",
      "Installing collected packages: scikit-base, sktime\n",
      "Successfully installed scikit-base-0.12.0 sktime-0.36.0\n"
     ]
    }
   ],
   "source": [
    "!pip install sktime"
   ]
  },
  {
   "cell_type": "code",
   "execution_count": 5,
   "id": "aee418d1-3469-4cd5-aff1-f604d887eac2",
   "metadata": {},
   "outputs": [],
   "source": [
    "import numpy as np\n",
    "import pandas as pd\n",
    "import matplotlib.pyplot as plt\n",
    "from sktime.datasets import load_acsf1\n",
    "from sktime.split import temporal_train_test_split\n",
    "from sklearn.ensemble import RandomForestClassifier\n",
    "from sklearn.metrics import accuracy_score, confusion_matrix, classification_report"
   ]
  },
  {
   "cell_type": "markdown",
   "id": "6c5d7a9f-0dc0-492b-8061-93f44f0eeae7",
   "metadata": {},
   "source": [
    "#### Devi Mahajan\n",
    "#### 5.3.25\n",
    "# Week 7 Time Series Classification\n",
    "***"
   ]
  },
  {
   "cell_type": "markdown",
   "id": "c89e2f84-ac73-439b-81af-079079d426b2",
   "metadata": {},
   "source": [
    "### Part 1: 35 pts Understanding the dataset\n",
    "***"
   ]
  },
  {
   "cell_type": "code",
   "execution_count": 18,
   "id": "82585950-a1dc-448c-a7d5-ea387fd39f00",
   "metadata": {},
   "outputs": [
    {
     "name": "stdout",
     "output_type": "stream",
     "text": [
      "Collecting aeon\n",
      "  Downloading aeon-1.0.0-py3-none-any.whl.metadata (20 kB)\n",
      "Requirement already satisfied: deprecated>=1.2.13 in /opt/anaconda3/lib/python3.12/site-packages (from aeon) (1.2.13)\n",
      "Requirement already satisfied: numba<0.61.0,>=0.55 in /opt/anaconda3/lib/python3.12/site-packages (from aeon) (0.60.0)\n",
      "Requirement already satisfied: numpy<2.1.0,>=1.21.0 in /opt/anaconda3/lib/python3.12/site-packages (from aeon) (1.26.4)\n",
      "Requirement already satisfied: packaging>=20.0 in /opt/anaconda3/lib/python3.12/site-packages (from aeon) (24.1)\n",
      "Requirement already satisfied: pandas<2.3.0,>=2.0.0 in /opt/anaconda3/lib/python3.12/site-packages (from aeon) (2.2.2)\n",
      "Requirement already satisfied: scikit-learn<1.6.0,>=1.0.0 in /opt/anaconda3/lib/python3.12/site-packages (from aeon) (1.5.1)\n",
      "Requirement already satisfied: scipy<1.15.0,>=1.9.0 in /opt/anaconda3/lib/python3.12/site-packages (from aeon) (1.13.1)\n",
      "Requirement already satisfied: typing-extensions>=4.6.0 in /opt/anaconda3/lib/python3.12/site-packages (from aeon) (4.11.0)\n",
      "Requirement already satisfied: wrapt<2,>=1.10 in /opt/anaconda3/lib/python3.12/site-packages (from deprecated>=1.2.13->aeon) (1.14.1)\n",
      "Requirement already satisfied: llvmlite<0.44,>=0.43.0dev0 in /opt/anaconda3/lib/python3.12/site-packages (from numba<0.61.0,>=0.55->aeon) (0.43.0)\n",
      "Requirement already satisfied: python-dateutil>=2.8.2 in /opt/anaconda3/lib/python3.12/site-packages (from pandas<2.3.0,>=2.0.0->aeon) (2.9.0.post0)\n",
      "Requirement already satisfied: pytz>=2020.1 in /opt/anaconda3/lib/python3.12/site-packages (from pandas<2.3.0,>=2.0.0->aeon) (2024.1)\n",
      "Requirement already satisfied: tzdata>=2022.7 in /opt/anaconda3/lib/python3.12/site-packages (from pandas<2.3.0,>=2.0.0->aeon) (2023.3)\n",
      "Requirement already satisfied: joblib>=1.2.0 in /opt/anaconda3/lib/python3.12/site-packages (from scikit-learn<1.6.0,>=1.0.0->aeon) (1.4.2)\n",
      "Requirement already satisfied: threadpoolctl>=3.1.0 in /opt/anaconda3/lib/python3.12/site-packages (from scikit-learn<1.6.0,>=1.0.0->aeon) (3.5.0)\n",
      "Requirement already satisfied: six>=1.5 in /opt/anaconda3/lib/python3.12/site-packages (from python-dateutil>=2.8.2->pandas<2.3.0,>=2.0.0->aeon) (1.16.0)\n",
      "Downloading aeon-1.0.0-py3-none-any.whl (8.2 MB)\n",
      "\u001b[2K   \u001b[90m━━━━━━━━━━━━━━━━━━━━━━━━━━━━━━━━━━━━━━━━\u001b[0m \u001b[32m8.2/8.2 MB\u001b[0m \u001b[31m5.3 MB/s\u001b[0m eta \u001b[36m0:00:00\u001b[0ma \u001b[36m0:00:01\u001b[0m\n",
      "\u001b[?25hInstalling collected packages: aeon\n",
      "Successfully installed aeon-1.0.0\n"
     ]
    }
   ],
   "source": [
    "!pip install aeon"
   ]
  },
  {
   "cell_type": "markdown",
   "id": "e2c796f7-66e8-4d83-a9f8-897a9e4a7ad0",
   "metadata": {},
   "source": [
    "#### A: 7pts Give a verbal description of the dataset from information on the acsf1 detailed webpage, not the summary repository page.\n"
   ]
  },
  {
   "cell_type": "code",
   "execution_count": 20,
   "id": "7c31f1a2-4674-42cf-85dd-17e91316e2a3",
   "metadata": {},
   "outputs": [
    {
     "name": "stdout",
     "output_type": "stream",
     "text": [
      " Shape of X =  (200, 1, 150)\n",
      "Shape of y: (200,)\n",
      "First few labels: ['2' '2' '1' '1' '2']\n"
     ]
    }
   ],
   "source": [
    "from aeon.datasets import load_classification\n",
    "X, y = load_classification(\"GunPoint\")\n",
    "print(\" Shape of X = \", X.shape)\n",
    "print(\"Shape of y:\", y.shape)\n",
    "print(\"First few labels:\", y[:5])"
   ]
  },
  {
   "cell_type": "code",
   "execution_count": 31,
   "id": "175a66cf-bbbc-414f-b4a8-d33e39e06733",
   "metadata": {},
   "outputs": [],
   "source": [
    "X_train, y_train = load_classification(\"ACSF1\", split=\"train\")\n",
    "X_test, y_test = load_classification(\"ACSF1\", split=\"test\") "
   ]
  },
  {
   "cell_type": "markdown",
   "id": "0745df94-6ec3-49cb-9f29-ca3159b81213",
   "metadata": {},
   "source": [
    "This dataset is comprised of the power consumption of household appliances. It represents the power consumption patterns demonstrated by these appliances, and captures how energy usage changes over time, making it ideal for time series analysis, with 10 different appliance types represented. Each observation consists of 1460 time steps representing 10-second intervals."
   ]
  },
  {
   "cell_type": "markdown",
   "id": "a68e5106-4fd9-41f1-8e80-78336f2669d7",
   "metadata": {},
   "source": [
    "#### B: 7pts There are 1460 time steps in each observation. Use len() to display this for any observation in the X_train\n"
   ]
  },
  {
   "cell_type": "code",
   "execution_count": 53,
   "id": "5608c105-696a-46c3-9092-b2b3d31704e0",
   "metadata": {},
   "outputs": [
    {
     "name": "stdout",
     "output_type": "stream",
     "text": [
      "Length of time steps in one observation: 1460\n"
     ]
    }
   ],
   "source": [
    "print(\"Length of time steps in one observation:\", X_train.shape[2])"
   ]
  },
  {
   "cell_type": "markdown",
   "id": "a8915ec5-b595-4fb4-88d0-0ddae9c408aa",
   "metadata": {},
   "source": [
    "#### C: 7pts Return the counts of classes in y_train\n"
   ]
  },
  {
   "cell_type": "code",
   "execution_count": 58,
   "id": "a408e031-3a94-4b57-ad74-d41bd9a7e17f",
   "metadata": {},
   "outputs": [
    {
     "name": "stdout",
     "output_type": "stream",
     "text": [
      "Class distribution in y_train:\n",
      "Class 0: 10\n",
      "Class 1: 10\n",
      "Class 2: 10\n",
      "Class 3: 10\n",
      "Class 4: 10\n",
      "Class 5: 10\n",
      "Class 6: 10\n",
      "Class 7: 10\n",
      "Class 8: 10\n",
      "Class 9: 10\n"
     ]
    }
   ],
   "source": [
    "unique, counts = np.unique(y_train, return_counts=True)\n",
    "print(\"Class distribution in y_train:\")\n",
    "for cls, count in zip(unique, counts):\n",
    "    print(f\"Class {cls}: {count}\")"
   ]
  },
  {
   "cell_type": "markdown",
   "id": "5e991079-8eb6-47a8-84ad-4b985a9b3f75",
   "metadata": {},
   "source": [
    "#### D: 7pts Plot the first time series for each class(.iloc[0]), label each plot with its specified class name. The patterns should match what can be found on the acsf1 detailed webpage.\n"
   ]
  },
  {
   "cell_type": "code",
   "execution_count": 71,
   "id": "06560c07-f449-490a-80d2-a2496abfb03f",
   "metadata": {},
   "outputs": [
    {
     "data": {
      "image/png": "[encoded data removed]",
      "text/plain": [
       "<Figure size 1200x1600 with 10 Axes>"
      ]
     },
     "metadata": {},
     "output_type": "display_data"
    }
   ],
   "source": [
    "unique_classes = np.unique(y_train)\n",
    "num_classes = len(unique_classes)\n",
    "rows = (num_classes // 3) + (num_classes % 3 > 0)\n",
    "\n",
    "fig, axes = plt.subplots(rows, 3, figsize=(12, 4 * rows))  \n",
    "axes = axes.flatten() \n",
    "\n",
    "for i, class_label in enumerate(unique_classes):\n",
    "    axes[i].plot(X_train[y_train == class_label][0, 0])\n",
    "    axes[i].set_title(f\"Class {class_label}\")\n",
    "\n",
    "for j in range(i + 1, len(axes)):\n",
    "    fig.delaxes(axes[j])\n",
    "\n",
    "plt.tight_layout()\n",
    "plt.show()"
   ]
  },
  {
   "cell_type": "markdown",
   "id": "4bcf343d-0fad-470b-a588-15822462b432",
   "metadata": {},
   "source": [
    "#### E: 7pts Each observation is 10 seconds apart. Describe what the plots show for classes 3, 8 and 9. Give some intuition about what appliance each of these three classes might represent.\n"
   ]
  },
  {
   "cell_type": "markdown",
   "id": "e540e175-6a68-465d-9b31-f2511cc07db8",
   "metadata": {},
   "source": [
    "Class 3 has brief high power spikes at irregular intervals, suggesting that it is an appliance with a cooling/heating system that self-regulates, such as a refrigerator. Class 8 displays 4 distinct usage periods of similar widths, suggesting that it is an appliance with a regular cycle, such as a washing machine or a microwave. Finally, class 9 shows regular usage with no spikes, suggesting an appliance that utilises a steady amount of power and remains on constantly, such as a router or a home security system. "
   ]
  },
  {
   "cell_type": "markdown",
   "id": "91626ec3-7d72-4be4-80ed-42ea451a4bf7",
   "metadata": {},
   "source": [
    "### Part 2: 15 pts Description of Time Series Classification models\n",
    "***\n"
   ]
  },
  {
   "cell_type": "markdown",
   "id": "219d4fb4-38d5-4e8a-a1f4-6f306bc9edc7",
   "metadata": {},
   "source": [
    "#### A: 5 pts Select one classification model type. Describe how the model works. Why would each be a good or bad fit for this type of data?\n"
   ]
  },
  {
   "cell_type": "markdown",
   "id": "557c49c3-6c28-45ff-bd56-ae13052ac419",
   "metadata": {},
   "source": [
    "**Random Forest**: this is an ensemble model using multiple decision trees to classify data. It captures both global and local trends and is robust to noise, which might make it good for this dataset. However, its feature extraction is limited and basic compared to other models, which might make it miss more complex trends."
   ]
  },
  {
   "cell_type": "markdown",
   "id": "57609a93-39cc-41d6-98d5-d8cbcb0629df",
   "metadata": {},
   "source": [
    "#### B: 5 pts Select a second classification model type. Describe how the model works. Why would each be a good or bad fit for this type of data?\n"
   ]
  },
  {
   "cell_type": "markdown",
   "id": "5d57264f-d73b-463c-b6f7-7919c1a46494",
   "metadata": {},
   "source": [
    "**K-nearest neighbours:** this is a classification model that operates based on similarity to the nearest training examples. It's a non-parametric model which can be good for capturing complex trends in data, unlike RF. However, it is sensitive to noise and takes a long time to run, which makes it difficult to work with when it comes to large/noisy datasets."
   ]
  },
  {
   "cell_type": "markdown",
   "id": "0f79c02d-ff65-4413-a077-4d0a00560b88",
   "metadata": {},
   "source": [
    "#### C: 5 pts Select third classification model type. Describe how the model works. Why would each be a good or bad fit for this type of data?\n"
   ]
  },
  {
   "cell_type": "markdown",
   "id": "36bafb45-bf31-4b20-8f93-540334cb745b",
   "metadata": {},
   "source": [
    "**CNN:** this applies layers to extract local patterns and features from time series segments. It detects both local and global patterns, and is robust to noise when trained fully, but requires substantial training, computational power, and large datasets in order to function optimally."
   ]
  },
  {
   "cell_type": "markdown",
   "id": "f812d83f-9fe3-4e72-a393-241c2d157f41",
   "metadata": {},
   "source": [
    "### Part 3: 50 pts Select one method. Model and examine results\n",
    "***"
   ]
  },
  {
   "cell_type": "markdown",
   "id": "fdefd259-0bb5-422c-9c0b-112b24c58ef2",
   "metadata": {},
   "source": [
    "#### A: 10 pts Select only one method. Fit your model. Feel free to adjust parameters or try a grid search (optional)\n"
   ]
  },
  {
   "cell_type": "code",
   "execution_count": 87,
   "id": "cc5fdcf5-fafe-4b1f-89d4-d5afdbafeaa9",
   "metadata": {},
   "outputs": [
    {
     "data": {
      "text/html": [
       "<style>#sk-container-id-1 {\n",
       "  /* Definition of color scheme common for light and dark mode */\n",
       "  --sklearn-color-text: black;\n",
       "  --sklearn-color-line: gray;\n",
       "  /* Definition of color scheme for unfitted estimators */\n",
       "  --sklearn-color-unfitted-level-0: #fff5e6;\n",
       "  --sklearn-color-unfitted-level-1: #f6e4d2;\n",
       "  --sklearn-color-unfitted-level-2: #ffe0b3;\n",
       "  --sklearn-color-unfitted-level-3: chocolate;\n",
       "  /* Definition of color scheme for fitted estimators */\n",
       "  --sklearn-color-fitted-level-0: #f0f8ff;\n",
       "  --sklearn-color-fitted-level-1: #d4ebff;\n",
       "  --sklearn-color-fitted-level-2: #b3dbfd;\n",
       "  --sklearn-color-fitted-level-3: cornflowerblue;\n",
       "\n",
       "  /* Specific color for light theme */\n",
       "  --sklearn-color-text-on-default-background: var(--sg-text-color, var(--theme-code-foreground, var(--jp-content-font-color1, black)));\n",
       "  --sklearn-color-background: var(--sg-background-color, var(--theme-background, var(--jp-layout-color0, white)));\n",
       "  --sklearn-color-border-box: var(--sg-text-color, var(--theme-code-foreground, var(--jp-content-font-color1, black)));\n",
       "  --sklearn-color-icon: #696969;\n",
       "\n",
       "  @media (prefers-color-scheme: dark) {\n",
       "    /* Redefinition of color scheme for dark theme */\n",
       "    --sklearn-color-text-on-default-background: var(--sg-text-color, var(--theme-code-foreground, var(--jp-content-font-color1, white)));\n",
       "    --sklearn-color-background: var(--sg-background-color, var(--theme-background, var(--jp-layout-color0, #111)));\n",
       "    --sklearn-color-border-box: var(--sg-text-color, var(--theme-code-foreground, var(--jp-content-font-color1, white)));\n",
       "    --sklearn-color-icon: #878787;\n",
       "  }\n",
       "}\n",
       "\n",
       "#sk-container-id-1 {\n",
       "  color: var(--sklearn-color-text);\n",
       "}\n",
       "\n",
       "#sk-container-id-1 pre {\n",
       "  padding: 0;\n",
       "}\n",
       "\n",
       "#sk-container-id-1 input.sk-hidden--visually {\n",
       "  border: 0;\n",
       "  clip: rect(1px 1px 1px 1px);\n",
       "  clip: rect(1px, 1px, 1px, 1px);\n",
       "  height: 1px;\n",
       "  margin: -1px;\n",
       "  overflow: hidden;\n",
       "  padding: 0;\n",
       "  position: absolute;\n",
       "  width: 1px;\n",
       "}\n",
       "\n",
       "#sk-container-id-1 div.sk-dashed-wrapped {\n",
       "  border: 1px dashed var(--sklearn-color-line);\n",
       "  margin: 0 0.4em 0.5em 0.4em;\n",
       "  box-sizing: border-box;\n",
       "  padding-bottom: 0.4em;\n",
       "  background-color: var(--sklearn-color-background);\n",
       "}\n",
       "\n",
       "#sk-container-id-1 div.sk-container {\n",
       "  /* jupyter's `normalize.less` sets `[hidden] { display: none; }`\n",
       "     but bootstrap.min.css set `[hidden] { display: none !important; }`\n",
       "     so we also need the `!important` here to be able to override the\n",
       "     default hidden behavior on the sphinx rendered scikit-learn.org.\n",
       "     See: https://github.com/scikit-learn/scikit-learn/issues/21755 */\n",
       "  display: inline-block !important;\n",
       "  position: relative;\n",
       "}\n",
       "\n",
       "#sk-container-id-1 div.sk-text-repr-fallback {\n",
       "  display: none;\n",
       "}\n",
       "\n",
       "div.sk-parallel-item,\n",
       "div.sk-serial,\n",
       "div.sk-item {\n",
       "  /* draw centered vertical line to link estimators */\n",
       "  background-image: linear-gradient(var(--sklearn-color-text-on-default-background), var(--sklearn-color-text-on-default-background));\n",
       "  background-size: 2px 100%;\n",
       "  background-repeat: no-repeat;\n",
       "  background-position: center center;\n",
       "}\n",
       "\n",
       "/* Parallel-specific style estimator block */\n",
       "\n",
       "#sk-container-id-1 div.sk-parallel-item::after {\n",
       "  content: \"\";\n",
       "  width: 100%;\n",
       "  border-bottom: 2px solid var(--sklearn-color-text-on-default-background);\n",
       "  flex-grow: 1;\n",
       "}\n",
       "\n",
       "#sk-container-id-1 div.sk-parallel {\n",
       "  display: flex;\n",
       "  align-items: stretch;\n",
       "  justify-content: center;\n",
       "  background-color: var(--sklearn-color-background);\n",
       "  position: relative;\n",
       "}\n",
       "\n",
       "#sk-container-id-1 div.sk-parallel-item {\n",
       "  display: flex;\n",
       "  flex-direction: column;\n",
       "}\n",
       "\n",
       "#sk-container-id-1 div.sk-parallel-item:first-child::after {\n",
       "  align-self: flex-end;\n",
       "  width: 50%;\n",
       "}\n",
       "\n",
       "#sk-container-id-1 div.sk-parallel-item:last-child::after {\n",
       "  align-self: flex-start;\n",
       "  width: 50%;\n",
       "}\n",
       "\n",
       "#sk-container-id-1 div.sk-parallel-item:only-child::after {\n",
       "  width: 0;\n",
       "}\n",
       "\n",
       "/* Serial-specific style estimator block */\n",
       "\n",
       "#sk-container-id-1 div.sk-serial {\n",
       "  display: flex;\n",
       "  flex-direction: column;\n",
       "  align-items: center;\n",
       "  background-color: var(--sklearn-color-background);\n",
       "  padding-right: 1em;\n",
       "  padding-left: 1em;\n",
       "}\n",
       "\n",
       "\n",
       "/* Toggleable style: style used for estimator/Pipeline/ColumnTransformer box that is\n",
       "clickable and can be expanded/collapsed.\n",
       "- Pipeline and ColumnTransformer use this feature and define the default style\n",
       "- Estimators will overwrite some part of the style using the `sk-estimator` class\n",
       "*/\n",
       "\n",
       "/* Pipeline and ColumnTransformer style (default) */\n",
       "\n",
       "#sk-container-id-1 div.sk-toggleable {\n",
       "  /* Default theme specific background. It is overwritten whether we have a\n",
       "  specific estimator or a Pipeline/ColumnTransformer */\n",
       "  background-color: var(--sklearn-color-background);\n",
       "}\n",
       "\n",
       "/* Toggleable label */\n",
       "#sk-container-id-1 label.sk-toggleable__label {\n",
       "  cursor: pointer;\n",
       "  display: block;\n",
       "  width: 100%;\n",
       "  margin-bottom: 0;\n",
       "  padding: 0.5em;\n",
       "  box-sizing: border-box;\n",
       "  text-align: center;\n",
       "}\n",
       "\n",
       "#sk-container-id-1 label.sk-toggleable__label-arrow:before {\n",
       "  /* Arrow on the left of the label */\n",
       "  content: \"▸\";\n",
       "  float: left;\n",
       "  margin-right: 0.25em;\n",
       "  color: var(--sklearn-color-icon);\n",
       "}\n",
       "\n",
       "#sk-container-id-1 label.sk-toggleable__label-arrow:hover:before {\n",
       "  color: var(--sklearn-color-text);\n",
       "}\n",
       "\n",
       "/* Toggleable content - dropdown */\n",
       "\n",
       "#sk-container-id-1 div.sk-toggleable__content {\n",
       "  max-height: 0;\n",
       "  max-width: 0;\n",
       "  overflow: hidden;\n",
       "  text-align: left;\n",
       "  /* unfitted */\n",
       "  background-color: var(--sklearn-color-unfitted-level-0);\n",
       "}\n",
       "\n",
       "#sk-container-id-1 div.sk-toggleable__content.fitted {\n",
       "  /* fitted */\n",
       "  background-color: var(--sklearn-color-fitted-level-0);\n",
       "}\n",
       "\n",
       "#sk-container-id-1 div.sk-toggleable__content pre {\n",
       "  margin: 0.2em;\n",
       "  border-radius: 0.25em;\n",
       "  color: var(--sklearn-color-text);\n",
       "  /* unfitted */\n",
       "  background-color: var(--sklearn-color-unfitted-level-0);\n",
       "}\n",
       "\n",
       "#sk-container-id-1 div.sk-toggleable__content.fitted pre {\n",
       "  /* unfitted */\n",
       "  background-color: var(--sklearn-color-fitted-level-0);\n",
       "}\n",
       "\n",
       "#sk-container-id-1 input.sk-toggleable__control:checked~div.sk-toggleable__content {\n",
       "  /* Expand drop-down */\n",
       "  max-height: 200px;\n",
       "  max-width: 100%;\n",
       "  overflow: auto;\n",
       "}\n",
       "\n",
       "#sk-container-id-1 input.sk-toggleable__control:checked~label.sk-toggleable__label-arrow:before {\n",
       "  content: \"▾\";\n",
       "}\n",
       "\n",
       "/* Pipeline/ColumnTransformer-specific style */\n",
       "\n",
       "#sk-container-id-1 div.sk-label input.sk-toggleable__control:checked~label.sk-toggleable__label {\n",
       "  color: var(--sklearn-color-text);\n",
       "  background-color: var(--sklearn-color-unfitted-level-2);\n",
       "}\n",
       "\n",
       "#sk-container-id-1 div.sk-label.fitted input.sk-toggleable__control:checked~label.sk-toggleable__label {\n",
       "  background-color: var(--sklearn-color-fitted-level-2);\n",
       "}\n",
       "\n",
       "/* Estimator-specific style */\n",
       "\n",
       "/* Colorize estimator box */\n",
       "#sk-container-id-1 div.sk-estimator input.sk-toggleable__control:checked~label.sk-toggleable__label {\n",
       "  /* unfitted */\n",
       "  background-color: var(--sklearn-color-unfitted-level-2);\n",
       "}\n",
       "\n",
       "#sk-container-id-1 div.sk-estimator.fitted input.sk-toggleable__control:checked~label.sk-toggleable__label {\n",
       "  /* fitted */\n",
       "  background-color: var(--sklearn-color-fitted-level-2);\n",
       "}\n",
       "\n",
       "#sk-container-id-1 div.sk-label label.sk-toggleable__label,\n",
       "#sk-container-id-1 div.sk-label label {\n",
       "  /* The background is the default theme color */\n",
       "  color: var(--sklearn-color-text-on-default-background);\n",
       "}\n",
       "\n",
       "/* On hover, darken the color of the background */\n",
       "#sk-container-id-1 div.sk-label:hover label.sk-toggleable__label {\n",
       "  color: var(--sklearn-color-text);\n",
       "  background-color: var(--sklearn-color-unfitted-level-2);\n",
       "}\n",
       "\n",
       "/* Label box, darken color on hover, fitted */\n",
       "#sk-container-id-1 div.sk-label.fitted:hover label.sk-toggleable__label.fitted {\n",
       "  color: var(--sklearn-color-text);\n",
       "  background-color: var(--sklearn-color-fitted-level-2);\n",
       "}\n",
       "\n",
       "/* Estimator label */\n",
       "\n",
       "#sk-container-id-1 div.sk-label label {\n",
       "  font-family: monospace;\n",
       "  font-weight: bold;\n",
       "  display: inline-block;\n",
       "  line-height: 1.2em;\n",
       "}\n",
       "\n",
       "#sk-container-id-1 div.sk-label-container {\n",
       "  text-align: center;\n",
       "}\n",
       "\n",
       "/* Estimator-specific */\n",
       "#sk-container-id-1 div.sk-estimator {\n",
       "  font-family: monospace;\n",
       "  border: 1px dotted var(--sklearn-color-border-box);\n",
       "  border-radius: 0.25em;\n",
       "  box-sizing: border-box;\n",
       "  margin-bottom: 0.5em;\n",
       "  /* unfitted */\n",
       "  background-color: var(--sklearn-color-unfitted-level-0);\n",
       "}\n",
       "\n",
       "#sk-container-id-1 div.sk-estimator.fitted {\n",
       "  /* fitted */\n",
       "  background-color: var(--sklearn-color-fitted-level-0);\n",
       "}\n",
       "\n",
       "/* on hover */\n",
       "#sk-container-id-1 div.sk-estimator:hover {\n",
       "  /* unfitted */\n",
       "  background-color: var(--sklearn-color-unfitted-level-2);\n",
       "}\n",
       "\n",
       "#sk-container-id-1 div.sk-estimator.fitted:hover {\n",
       "  /* fitted */\n",
       "  background-color: var(--sklearn-color-fitted-level-2);\n",
       "}\n",
       "\n",
       "/* Specification for estimator info (e.g. \"i\" and \"?\") */\n",
       "\n",
       "/* Common style for \"i\" and \"?\" */\n",
       "\n",
       ".sk-estimator-doc-link,\n",
       "a:link.sk-estimator-doc-link,\n",
       "a:visited.sk-estimator-doc-link {\n",
       "  float: right;\n",
       "  font-size: smaller;\n",
       "  line-height: 1em;\n",
       "  font-family: monospace;\n",
       "  background-color: var(--sklearn-color-background);\n",
       "  border-radius: 1em;\n",
       "  height: 1em;\n",
       "  width: 1em;\n",
       "  text-decoration: none !important;\n",
       "  margin-left: 1ex;\n",
       "  /* unfitted */\n",
       "  border: var(--sklearn-color-unfitted-level-1) 1pt solid;\n",
       "  color: var(--sklearn-color-unfitted-level-1);\n",
       "}\n",
       "\n",
       ".sk-estimator-doc-link.fitted,\n",
       "a:link.sk-estimator-doc-link.fitted,\n",
       "a:visited.sk-estimator-doc-link.fitted {\n",
       "  /* fitted */\n",
       "  border: var(--sklearn-color-fitted-level-1) 1pt solid;\n",
       "  color: var(--sklearn-color-fitted-level-1);\n",
       "}\n",
       "\n",
       "/* On hover */\n",
       "div.sk-estimator:hover .sk-estimator-doc-link:hover,\n",
       ".sk-estimator-doc-link:hover,\n",
       "div.sk-label-container:hover .sk-estimator-doc-link:hover,\n",
       ".sk-estimator-doc-link:hover {\n",
       "  /* unfitted */\n",
       "  background-color: var(--sklearn-color-unfitted-level-3);\n",
       "  color: var(--sklearn-color-background);\n",
       "  text-decoration: none;\n",
       "}\n",
       "\n",
       "div.sk-estimator.fitted:hover .sk-estimator-doc-link.fitted:hover,\n",
       ".sk-estimator-doc-link.fitted:hover,\n",
       "div.sk-label-container:hover .sk-estimator-doc-link.fitted:hover,\n",
       ".sk-estimator-doc-link.fitted:hover {\n",
       "  /* fitted */\n",
       "  background-color: var(--sklearn-color-fitted-level-3);\n",
       "  color: var(--sklearn-color-background);\n",
       "  text-decoration: none;\n",
       "}\n",
       "\n",
       "/* Span, style for the box shown on hovering the info icon */\n",
       ".sk-estimator-doc-link span {\n",
       "  display: none;\n",
       "  z-index: 9999;\n",
       "  position: relative;\n",
       "  font-weight: normal;\n",
       "  right: .2ex;\n",
       "  padding: .5ex;\n",
       "  margin: .5ex;\n",
       "  width: min-content;\n",
       "  min-width: 20ex;\n",
       "  max-width: 50ex;\n",
       "  color: var(--sklearn-color-text);\n",
       "  box-shadow: 2pt 2pt 4pt #999;\n",
       "  /* unfitted */\n",
       "  background: var(--sklearn-color-unfitted-level-0);\n",
       "  border: .5pt solid var(--sklearn-color-unfitted-level-3);\n",
       "}\n",
       "\n",
       ".sk-estimator-doc-link.fitted span {\n",
       "  /* fitted */\n",
       "  background: var(--sklearn-color-fitted-level-0);\n",
       "  border: var(--sklearn-color-fitted-level-3);\n",
       "}\n",
       "\n",
       ".sk-estimator-doc-link:hover span {\n",
       "  display: block;\n",
       "}\n",
       "\n",
       "/* \"?\"-specific style due to the `<a>` HTML tag */\n",
       "\n",
       "#sk-container-id-1 a.estimator_doc_link {\n",
       "  float: right;\n",
       "  font-size: 1rem;\n",
       "  line-height: 1em;\n",
       "  font-family: monospace;\n",
       "  background-color: var(--sklearn-color-background);\n",
       "  border-radius: 1rem;\n",
       "  height: 1rem;\n",
       "  width: 1rem;\n",
       "  text-decoration: none;\n",
       "  /* unfitted */\n",
       "  color: var(--sklearn-color-unfitted-level-1);\n",
       "  border: var(--sklearn-color-unfitted-level-1) 1pt solid;\n",
       "}\n",
       "\n",
       "#sk-container-id-1 a.estimator_doc_link.fitted {\n",
       "  /* fitted */\n",
       "  border: var(--sklearn-color-fitted-level-1) 1pt solid;\n",
       "  color: var(--sklearn-color-fitted-level-1);\n",
       "}\n",
       "\n",
       "/* On hover */\n",
       "#sk-container-id-1 a.estimator_doc_link:hover {\n",
       "  /* unfitted */\n",
       "  background-color: var(--sklearn-color-unfitted-level-3);\n",
       "  color: var(--sklearn-color-background);\n",
       "  text-decoration: none;\n",
       "}\n",
       "\n",
       "#sk-container-id-1 a.estimator_doc_link.fitted:hover {\n",
       "  /* fitted */\n",
       "  background-color: var(--sklearn-color-fitted-level-3);\n",
       "}\n",
       "</style><div id=\"sk-container-id-1\" class=\"sk-top-container\"><div class=\"sk-text-repr-fallback\"><pre>RandomForestClassifier(random_state=42)</pre><b>In a Jupyter environment, please rerun this cell to show the HTML representation or trust the notebook. <br />On GitHub, the HTML representation is unable to render, please try loading this page with nbviewer.org.</b></div><div class=\"sk-container\" hidden><div class=\"sk-item\"><div class=\"sk-estimator fitted sk-toggleable\"><input class=\"sk-toggleable__control sk-hidden--visually\" id=\"sk-estimator-id-1\" type=\"checkbox\" checked><label for=\"sk-estimator-id-1\" class=\"sk-toggleable__label fitted sk-toggleable__label-arrow fitted\">&nbsp;&nbsp;RandomForestClassifier<a class=\"sk-estimator-doc-link fitted\" rel=\"noreferrer\" target=\"_blank\" href=\"https://scikit-learn.org/1.5/modules/generated/sklearn.ensemble.RandomForestClassifier.html\">?<span>Documentation for RandomForestClassifier</span></a><span class=\"sk-estimator-doc-link fitted\">i<span>Fitted</span></span></label><div class=\"sk-toggleable__content fitted\"><pre>RandomForestClassifier(random_state=42)</pre></div> </div></div></div></div>"
      ],
      "text/plain": [
       "RandomForestClassifier(random_state=42)"
      ]
     },
     "execution_count": 87,
     "metadata": {},
     "output_type": "execute_result"
    }
   ],
   "source": [
    "clf = RandomForestClassifier(n_estimators=100, random_state=42)\n",
    "clf.fit(X_train[:, 0, :], y_train)"
   ]
  },
  {
   "cell_type": "markdown",
   "id": "904e4f66-4fd6-421f-aece-7a1714a93293",
   "metadata": {},
   "source": [
    "#### B: 10 pts Return the accuracy score of the train set and test set (suggestion to use .score()). Print the confusion matrix and classification report of the test set.\n"
   ]
  },
  {
   "cell_type": "code",
   "execution_count": 90,
   "id": "944e7556-89fe-428c-b9c7-cda0c61eeaff",
   "metadata": {},
   "outputs": [
    {
     "name": "stdout",
     "output_type": "stream",
     "text": [
      "Train Accuracy: 1.0000\n",
      "Test Accuracy: 0.7900\n"
     ]
    }
   ],
   "source": [
    "train_acc = accuracy_score(y_train, clf.predict(X_train[:, 0, :]))\n",
    "test_acc = accuracy_score(y_test, clf.predict(X_test[:, 0, :]))\n",
    "print(f\"Train Accuracy: {train_acc:.4f}\")\n",
    "print(f\"Test Accuracy: {test_acc:.4f}\")"
   ]
  },
  {
   "cell_type": "code",
   "execution_count": 92,
   "id": "bb347fd2-9742-40ad-a372-5c9ba73b293c",
   "metadata": {},
   "outputs": [
    {
     "name": "stdout",
     "output_type": "stream",
     "text": [
      "Confusion Matrix:\n",
      "[[ 8  0  0  0  1  0  1  0  0  0]\n",
      " [ 0  7  2  0  0  0  0  1  0  0]\n",
      " [ 0  1  8  0  0  1  0  0  0  0]\n",
      " [ 0  0  0  9  0  0  0  0  1  0]\n",
      " [ 0  1  2  0  7  0  0  0  0  0]\n",
      " [ 0  0  1  0  0  7  0  1  0  1]\n",
      " [ 0  0  1  0  0  0  7  1  0  1]\n",
      " [ 0  0  0  0  0  0  0  8  1  1]\n",
      " [ 0  0  0  2  0  0  0  0  8  0]\n",
      " [ 0  0  0  0  0  0  0  0  0 10]]\n",
      "Classification Report:\n",
      "              precision    recall  f1-score   support\n",
      "\n",
      "           0       1.00      0.80      0.89        10\n",
      "           1       0.78      0.70      0.74        10\n",
      "           2       0.57      0.80      0.67        10\n",
      "           3       0.82      0.90      0.86        10\n",
      "           4       0.88      0.70      0.78        10\n",
      "           5       0.88      0.70      0.78        10\n",
      "           6       0.88      0.70      0.78        10\n",
      "           7       0.73      0.80      0.76        10\n",
      "           8       0.80      0.80      0.80        10\n",
      "           9       0.77      1.00      0.87        10\n",
      "\n",
      "    accuracy                           0.79       100\n",
      "   macro avg       0.81      0.79      0.79       100\n",
      "weighted avg       0.81      0.79      0.79       100\n",
      "\n"
     ]
    }
   ],
   "source": [
    "y_pred = clf.predict(X_test[:, 0, :])\n",
    "print(\"Confusion Matrix:\")\n",
    "print(confusion_matrix(y_test, y_pred))\n",
    "print(\"Classification Report:\")\n",
    "print(classification_report(y_test, y_pred))"
   ]
  },
  {
   "cell_type": "markdown",
   "id": "0ee0df4f-837f-440f-a9f9-b2311f2797c9",
   "metadata": {},
   "source": [
    "#### C: 10 pts Discuss the precision score for class 8. Support this with your visual opinion from plots in 1D as well as the confusion matrix.\n"
   ]
  },
  {
   "cell_type": "code",
   "execution_count": 95,
   "id": "c22087e3-7752-4823-a4da-4b61076e76eb",
   "metadata": {},
   "outputs": [
    {
     "name": "stdout",
     "output_type": "stream",
     "text": [
      "Precision for class 8: 0.8000\n"
     ]
    }
   ],
   "source": [
    "report = classification_report(y_test, y_pred, output_dict=True)\n",
    "print(f\"Precision for class 8: {report['8']['precision']:.4f}\")"
   ]
  },
  {
   "cell_type": "markdown",
   "id": "868bc037-d64f-496f-8ab4-22c568577843",
   "metadata": {},
   "source": [
    "A 0.80 precision means 80% of predictions labeled as class 8 are correct. Reducing confusion with neighboring classes could improve precision. This seems likely, as we can see in the plots in 1D, the majority of the data in class 8 is consistent, barring spikes in usage, which could have been misclassified. The confusion matrix shows us that there are 8 true positives, and 2 false positives, which is aligned with our precision score."
   ]
  },
  {
   "cell_type": "markdown",
   "id": "17bedfd5-f65d-4990-8c18-8b83ec04adf7",
   "metadata": {},
   "source": [
    "#### D: 10 pts Discuss the recall score for class 5. Support this with your visual opinion from plots in 1D as well as the confusion matrix.\n"
   ]
  },
  {
   "cell_type": "code",
   "execution_count": 100,
   "id": "8e9732c2-bb72-4fbf-a8f9-f019bf154f2e",
   "metadata": {},
   "outputs": [
    {
     "name": "stdout",
     "output_type": "stream",
     "text": [
      "Recall for class 5: 0.7000\n"
     ]
    }
   ],
   "source": [
    "print(f\"Recall for class 5: {report['5']['recall']:.4f}\")"
   ]
  },
  {
   "cell_type": "markdown",
   "id": "bc17ae10-39e4-4e4a-a791-aeb7420e5156",
   "metadata": {},
   "source": [
    "A 0.70 recall means 70% of actual class 5 instances were identified correctly, while 30% were misclassified. We can say that the model needs better separation of class 5 from its neighboring classes. Class 5 seems to have fairly consistent energy use, which would support high recall as there are fewer instances to classify outside of the norm. Moreover, the confusion matrix shows us that there are 7 true positives and 3 false negatives. Feature engineering or the use of a different classifier may improve recall.\n"
   ]
  },
  {
   "cell_type": "markdown",
   "id": "7336776c-07f2-4859-858d-198c3812d233",
   "metadata": {},
   "source": [
    "#### E: 10 pts Which metric do you feel is the most important in the following business case: You work for ComEd, a local electricity supplier. You head a department that uses analytics to plan electrical supply for Chicago's power grid. Assume that your department budgets for a certain amount of electrical supply at a fixed low rate. If the total demand in Chicago stays within the purchased supply levels, your department is performing. If the demand breaches this supply level, the company is penalized and the rate for your supply multiplies by 100x, destroying your department’s performance. If you had to build your forecast model to classify patterns of high electrical usage (appliances, air conditioning, water heating) vs low electrical usage (lighting, tv, phone chargers) which metric (precision or recall) would you use?\n"
   ]
  },
  {
   "cell_type": "markdown",
   "id": "dd281b65-4f70-4bb0-b5fb-b10457d47c34",
   "metadata": {},
   "source": [
    "Here, recall is the more important metric, because it measures the proportion of correctly identified high usage patterns. Failing to detect high-usage patterns could be catastrophic and incur penalities, while mistakenly classifying low-usage as high-usage (as exemplified by precision) would not cause you to breach the supply level. In this way, recall captures high usage patterns that would contribute to a supply level breach, and should be considered closely in this scenario."
   ]
  }
 ],
 "metadata": {
  "kernelspec": {
   "display_name": "Python 3 (ipykernel)",
   "language": "python",
   "name": "python3"
  },
  "language_info": {
   "codemirror_mode": {
    "name": "ipython",
    "version": 3
   },
   "file_extension": ".py",
   "mimetype": "text/x-python",
   "name": "python",
   "nbconvert_exporter": "python",
   "pygments_lexer": "ipython3",
   "version": "3.12.2"
  }
 },
 "nbformat": 4,
 "nbformat_minor": 5
}
